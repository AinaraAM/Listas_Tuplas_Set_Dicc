{
  "nbformat": 4,
  "nbformat_minor": 0,
  "metadata": {
    "colab": {
      "name": "Listas_Tuplas_Set_Dicc.ipynb",
      "provenance": [],
      "collapsed_sections": [],
      "include_colab_link": true
    },
    "kernelspec": {
      "name": "python3",
      "display_name": "Python 3"
    },
    "language_info": {
      "name": "python"
    }
  },
  "cells": [
    {
      "cell_type": "markdown",
      "metadata": {
        "id": "view-in-github",
        "colab_type": "text"
      },
      "source": [
        "<a href=\"https://colab.research.google.com/github/AinaraAM/Listas_Tuplas_Set_Dicc/blob/main/Listas_Tuplas_Set_Dicc.ipynb\" target=\"_parent\"><img src=\"https://colab.research.google.com/assets/colab-badge.svg\" alt=\"Open In Colab\"/></a>"
      ]
    },
    {
      "cell_type": "markdown",
      "source": [
        "#**LISTAS**"
      ],
      "metadata": {
        "id": "Qq82Rp-cFhXh"
      }
    },
    {
      "cell_type": "code",
      "execution_count": null,
      "metadata": {
        "id": "Nm7_klf0Azgr",
        "colab": {
          "base_uri": "https://localhost:8080/"
        },
        "outputId": "6af854f6-721b-4b8b-ba58-80dd285a7ef4"
      },
      "outputs": [
        {
          "output_type": "stream",
          "name": "stdout",
          "text": [
            "['Alicia', 'Chantell', 'Roxana', 'Oliris']\n"
          ]
        }
      ],
      "source": [
        "# Definir una lista de tipo str\n",
        "nombres = ['Alicia','Chantell','Roxana', 'Oliris']\n",
        "# imprimir la lista nombres\n",
        "print(nombres)"
      ]
    },
    {
      "cell_type": "code",
      "source": [
        "# acceder a los elementos de un a lista\n",
        "print(nombres[0])\n",
        "print(nombres[1])\n"
      ],
      "metadata": {
        "id": "o8TAHbeaGlXw",
        "colab": {
          "base_uri": "https://localhost:8080/"
        },
        "outputId": "c8ce1697-2c1a-4866-cad3-926225897c2e"
      },
      "execution_count": null,
      "outputs": [
        {
          "output_type": "stream",
          "name": "stdout",
          "text": [
            "Alicia\n",
            "Chantell\n"
          ]
        }
      ]
    },
    {
      "cell_type": "code",
      "source": [
        "nombres = ['Alicia','Chantell','Roxana', 'Oliris']"
      ],
      "metadata": {
        "id": "ZIX4rVMif87P"
      },
      "execution_count": null,
      "outputs": []
    },
    {
      "cell_type": "code",
      "source": [
        "# acceder a los elementos de manera inversa\n",
        "print(nombres[-1])\n",
        "print(nombres[-2])"
      ],
      "metadata": {
        "id": "6qSQNreuGnKq"
      },
      "execution_count": null,
      "outputs": []
    },
    {
      "cell_type": "code",
      "source": [
        "nombres = ['Alicia','Chantell','Roxana', 'Oliris']"
      ],
      "metadata": {
        "id": "JtuLaDX9f5Ji"
      },
      "execution_count": null,
      "outputs": []
    },
    {
      "cell_type": "code",
      "source": [
        "print(nombres[0:3]) \n",
        "print(nombres[1:3])\n",
        "print(nombres[:-2])"
      ],
      "metadata": {
        "id": "rhYaR3GzGw-g",
        "colab": {
          "base_uri": "https://localhost:8080/"
        },
        "outputId": "48a4cad3-36d7-4ed5-ffe8-093915881a3c"
      },
      "execution_count": null,
      "outputs": [
        {
          "output_type": "stream",
          "name": "stdout",
          "text": [
            "['Alicia', 'Chantell', 'Roxana']\n",
            "['Chantell', 'Roxana']\n",
            "['Alicia', 'Chantell']\n"
          ]
        }
      ]
    },
    {
      "cell_type": "code",
      "source": [
        "nombres = ['Alicia','Chantell','Roxana', 'Oliris']"
      ],
      "metadata": {
        "id": "9Pals0CWhY6n"
      },
      "execution_count": null,
      "outputs": []
    },
    {
      "cell_type": "code",
      "source": [
        "nombres.insert(0, \"Valentina\") "
      ],
      "metadata": {
        "id": "VUey6sqpuqOv"
      },
      "execution_count": null,
      "outputs": []
    },
    {
      "cell_type": "code",
      "source": [
        "nombres"
      ],
      "metadata": {
        "colab": {
          "base_uri": "https://localhost:8080/"
        },
        "id": "hpD4uu2du1jF",
        "outputId": "7b9ccbc0-da23-46e5-fab1-f2014f1becb5"
      },
      "execution_count": null,
      "outputs": [
        {
          "output_type": "execute_result",
          "data": {
            "text/plain": [
              "['Valentina', 'Alicia', 'Chantell', 'Roxana', 'Oliris']"
            ]
          },
          "metadata": {},
          "execution_count": 75
        }
      ]
    },
    {
      "cell_type": "code",
      "source": [
        "#Cambiar un valor\n",
        "nombres[0] = 'Cristal'\n",
        "print(nombres)\n",
        "\n",
        "#iterar una lista\n",
        "for nombre in nombres:\n",
        "    print(nombre)\n",
        "else:\n",
        "    print('No existen más nombres en la lista')"
      ],
      "metadata": {
        "id": "b0tqlS8iGw3z",
        "colab": {
          "base_uri": "https://localhost:8080/"
        },
        "outputId": "b6f70866-abef-474a-a7d7-11e18e8d6bb0"
      },
      "execution_count": null,
      "outputs": [
        {
          "output_type": "stream",
          "name": "stdout",
          "text": [
            "['Cristal', 'Chantell', 'Roxana', 'Ainara']\n"
          ]
        }
      ]
    },
    {
      "cell_type": "code",
      "source": [
        "# preguntar el largo de una lista\n",
        "print(len(nombres))"
      ],
      "metadata": {
        "id": "eG2jT5p4Gwr6",
        "colab": {
          "base_uri": "https://localhost:8080/"
        },
        "outputId": "31c23f92-3aec-47b2-ca53-860f114f4d84"
      },
      "execution_count": null,
      "outputs": [
        {
          "output_type": "stream",
          "name": "stdout",
          "text": [
            "4\n"
          ]
        }
      ]
    },
    {
      "cell_type": "code",
      "source": [
        "nombres = ['Cristal', 'Chantell', 'Roxana', 'Ainara']"
      ],
      "metadata": {
        "id": "ztYti7pomtBK"
      },
      "execution_count": null,
      "outputs": []
    },
    {
      "cell_type": "code",
      "source": [
        "# agregar un elemento\n",
        "nombres.append('Alicia')\n"
      ],
      "metadata": {
        "id": "aFwunU1xH90T"
      },
      "execution_count": null,
      "outputs": []
    },
    {
      "cell_type": "code",
      "source": [
        "nombres.append('Oliris')\n",
        "print(nombres)"
      ],
      "metadata": {
        "colab": {
          "base_uri": "https://localhost:8080/"
        },
        "id": "mD8tMLuEndR3",
        "outputId": "c4702fb3-5e60-4304-ca5b-ad24c5f1ae03"
      },
      "execution_count": null,
      "outputs": [
        {
          "output_type": "stream",
          "name": "stdout",
          "text": [
            "['Cristal', 'Chantell', 'Roxana', 'Ainara', 'Alicia', 'Oliris']\n"
          ]
        }
      ]
    },
    {
      "cell_type": "code",
      "source": [
        "print(len(nombres))"
      ],
      "metadata": {
        "colab": {
          "base_uri": "https://localhost:8080/"
        },
        "id": "Lt1mEDgundND",
        "outputId": "92060afc-89fa-448a-9940-418b6dcf3aa2"
      },
      "execution_count": null,
      "outputs": [
        {
          "output_type": "stream",
          "name": "stdout",
          "text": [
            "6\n"
          ]
        }
      ]
    },
    {
      "cell_type": "code",
      "source": [
        "['Cristal', 'Chantell', 'Roxana', 'Ainara', 'Alicia', 'Oliris']"
      ],
      "metadata": {
        "id": "RCDtNwIgndAm"
      },
      "execution_count": null,
      "outputs": []
    },
    {
      "cell_type": "code",
      "source": [
        "# remover el último valor agregado\n",
        "nombres.pop()\n",
        "print(nombres)"
      ],
      "metadata": {
        "id": "qS2P_N2EHa1Q",
        "colab": {
          "base_uri": "https://localhost:8080/"
        },
        "outputId": "88b7413b-122c-4e4b-dbef-60a43d551d17"
      },
      "execution_count": null,
      "outputs": [
        {
          "output_type": "stream",
          "name": "stdout",
          "text": [
            "['Cristal', 'Chantell', 'Roxana', 'Ainara', 'Alicia']\n"
          ]
        }
      ]
    },
    {
      "cell_type": "code",
      "source": [
        "nombres.pop()"
      ],
      "metadata": {
        "colab": {
          "base_uri": "https://localhost:8080/",
          "height": 36
        },
        "id": "Jp1ERW_mpJSJ",
        "outputId": "71a260f1-36a6-4bd4-f19c-6b27f3db67f3"
      },
      "execution_count": null,
      "outputs": [
        {
          "output_type": "execute_result",
          "data": {
            "text/plain": [
              "'Cristal'"
            ],
            "application/vnd.google.colaboratory.intrinsic+json": {
              "type": "string"
            }
          },
          "metadata": {},
          "execution_count": 42
        }
      ]
    },
    {
      "cell_type": "code",
      "source": [
        "print(nombres)"
      ],
      "metadata": {
        "colab": {
          "base_uri": "https://localhost:8080/"
        },
        "id": "SD8uHia5pJM8",
        "outputId": "0e9ffd96-216e-42c6-fb62-cdb2e380ea45"
      },
      "execution_count": null,
      "outputs": [
        {
          "output_type": "stream",
          "name": "stdout",
          "text": [
            "[]\n"
          ]
        }
      ]
    },
    {
      "cell_type": "code",
      "source": [
        "nombres = ['Cristal', 'Chantell', 'Roxana', 'Ainara', 'Alicia']\n",
        "print(nombres)"
      ],
      "metadata": {
        "colab": {
          "base_uri": "https://localhost:8080/"
        },
        "id": "J6hy81x0pJDz",
        "outputId": "d4fcc68d-6a54-4b7d-b9e9-97eea518b452"
      },
      "execution_count": null,
      "outputs": [
        {
          "output_type": "stream",
          "name": "stdout",
          "text": [
            "['Cristal', 'Chantell', 'Roxana', 'Ainara', 'Alicia']\n"
          ]
        }
      ]
    },
    {
      "cell_type": "code",
      "source": [
        "# eliminar un indice\n",
        "del nombres[1:]\n",
        "print(nombres)"
      ],
      "metadata": {
        "id": "eWiQumACHYls",
        "colab": {
          "base_uri": "https://localhost:8080/"
        },
        "outputId": "01e433df-c9e2-4e68-c9f2-321495f2d716"
      },
      "execution_count": null,
      "outputs": [
        {
          "output_type": "stream",
          "name": "stdout",
          "text": [
            "['Cristal', 'Ainara', 'Alicia']\n"
          ]
        }
      ]
    },
    {
      "cell_type": "code",
      "source": [
        "print(nombres)"
      ],
      "metadata": {
        "colab": {
          "base_uri": "https://localhost:8080/"
        },
        "id": "hHAUoneIp-mh",
        "outputId": "f25768b0-9205-43b3-c3cc-48c232b6930f"
      },
      "execution_count": null,
      "outputs": [
        {
          "output_type": "stream",
          "name": "stdout",
          "text": [
            "['Cristal', 'Chantell', 'Roxana', 'Ainara', 'Alicia']\n"
          ]
        }
      ]
    },
    {
      "cell_type": "code",
      "source": [
        "# limpiar la lista\n",
        "nombres.clear()\n",
        "print(nombres)"
      ],
      "metadata": {
        "id": "ylFPl8qiHWT6",
        "colab": {
          "base_uri": "https://localhost:8080/"
        },
        "outputId": "0e83da3c-af16-4d33-8242-aab752cdcab0"
      },
      "execution_count": null,
      "outputs": [
        {
          "output_type": "stream",
          "name": "stdout",
          "text": [
            "[]\n"
          ]
        }
      ]
    },
    {
      "cell_type": "code",
      "source": [
        "nombres = ['Cristal', 'Chantell', 'Roxana', 'Ainara', 'Alicia']"
      ],
      "metadata": {
        "id": "SKY6PKC1spvk"
      },
      "execution_count": null,
      "outputs": []
    },
    {
      "cell_type": "code",
      "source": [
        "print(nombres)"
      ],
      "metadata": {
        "colab": {
          "base_uri": "https://localhost:8080/"
        },
        "id": "vCVHygTmr7is",
        "outputId": "ce11f14e-1cee-4e7e-e161-8a1940ba12b7"
      },
      "execution_count": null,
      "outputs": [
        {
          "output_type": "stream",
          "name": "stdout",
          "text": [
            "['Cristal', 'Chantell', 'Roxana', 'Ainara', 'Alicia']\n"
          ]
        }
      ]
    },
    {
      "cell_type": "code",
      "source": [
        "# borrar la lista por completo\n",
        "del nombres"
      ],
      "metadata": {
        "id": "HxesRNnhHQhe"
      },
      "execution_count": null,
      "outputs": []
    },
    {
      "cell_type": "code",
      "source": [
        "nombres = ['Cristal', 'Chantell', 'Roxana', 'Ainara', 'Alicia']"
      ],
      "metadata": {
        "id": "aimmRYkLsNgB"
      },
      "execution_count": null,
      "outputs": []
    },
    {
      "cell_type": "code",
      "source": [
        "print(nombres)"
      ],
      "metadata": {
        "colab": {
          "base_uri": "https://localhost:8080/"
        },
        "id": "leOdgCnpsNj_",
        "outputId": "fcb95d80-1b50-4e2c-9786-af645cf0fa33"
      },
      "execution_count": null,
      "outputs": [
        {
          "output_type": "stream",
          "name": "stdout",
          "text": [
            "['Cristal', 'Chantell', 'Roxana', 'Ainara', 'Alicia']\n"
          ]
        }
      ]
    },
    {
      "cell_type": "code",
      "source": [
        ""
      ],
      "metadata": {
        "id": "XJNXoflQtP5O"
      },
      "execution_count": null,
      "outputs": []
    },
    {
      "cell_type": "markdown",
      "source": [
        "#**TUPLAS**"
      ],
      "metadata": {
        "id": "eO-dlwxlIOLR"
      }
    },
    {
      "cell_type": "code",
      "source": [
        "#Definir una tupla\n",
        "frutas = ('Naranja', 'Plátano', 'Guayaba','Pera','Manzana')\n",
        "print(frutas)"
      ],
      "metadata": {
        "id": "FjTHwfnLI1ab",
        "colab": {
          "base_uri": "https://localhost:8080/"
        },
        "outputId": "2da730d7-22ce-45d7-b242-0718d478cb5f"
      },
      "execution_count": null,
      "outputs": [
        {
          "output_type": "stream",
          "name": "stdout",
          "text": [
            "('Naranja', 'Plátano', 'Guayaba', 'Pera', 'Manzana')\n"
          ]
        }
      ]
    },
    {
      "cell_type": "code",
      "source": [
        "print(len(frutas))"
      ],
      "metadata": {
        "colab": {
          "base_uri": "https://localhost:8080/"
        },
        "id": "WbiC4ObSvpv2",
        "outputId": "15236237-3502-4deb-e46e-66ad981bbefb"
      },
      "execution_count": null,
      "outputs": [
        {
          "output_type": "stream",
          "name": "stdout",
          "text": [
            "5\n"
          ]
        }
      ]
    },
    {
      "cell_type": "code",
      "source": [
        "('Naranja', 'Plátano', 'Guayaba', 'Pera', 'Manzana')"
      ],
      "metadata": {
        "id": "7-mX10FQwUC1"
      },
      "execution_count": null,
      "outputs": []
    },
    {
      "cell_type": "code",
      "source": [
        "#acceder a un elemento\n",
        "print(frutas[4])"
      ],
      "metadata": {
        "colab": {
          "base_uri": "https://localhost:8080/"
        },
        "id": "i4MlS83NvpkN",
        "outputId": "59df2fa1-843a-4496-bc55-422ffc85266e"
      },
      "execution_count": null,
      "outputs": [
        {
          "output_type": "stream",
          "name": "stdout",
          "text": [
            "Manzana\n"
          ]
        }
      ]
    },
    {
      "cell_type": "code",
      "source": [
        "# navegación inversa\n",
        "print(frutas[-3])"
      ],
      "metadata": {
        "colab": {
          "base_uri": "https://localhost:8080/"
        },
        "id": "_U-nTAT4wl41",
        "outputId": "594d2ea8-7893-4be5-ae6c-30e1390b10b9"
      },
      "execution_count": null,
      "outputs": [
        {
          "output_type": "stream",
          "name": "stdout",
          "text": [
            "Guayaba\n"
          ]
        }
      ]
    },
    {
      "cell_type": "code",
      "source": [
        "('Naranja', 'Plátano', 'Guayaba', 'Pera', 'Manzana')"
      ],
      "metadata": {
        "id": "eS-o6MVLw1TR"
      },
      "execution_count": null,
      "outputs": []
    },
    {
      "cell_type": "code",
      "source": [
        "# acceder a un rango\n",
        "print(frutas[2:3])# sin incluir el último índice"
      ],
      "metadata": {
        "id": "j9pDu04YI1RN",
        "colab": {
          "base_uri": "https://localhost:8080/"
        },
        "outputId": "ea9d7639-97f8-4907-c7e1-2a838b167c97"
      },
      "execution_count": null,
      "outputs": [
        {
          "output_type": "stream",
          "name": "stdout",
          "text": [
            "('Guayaba',)\n"
          ]
        }
      ]
    },
    {
      "cell_type": "code",
      "source": [
        "#recorrer elementos\n",
        "for fruta in frutas:\n",
        "    print(fruta, end=' ')"
      ],
      "metadata": {
        "id": "aOoeur0mI1Lo"
      },
      "execution_count": null,
      "outputs": []
    },
    {
      "cell_type": "code",
      "source": [
        "('Naranja', 'Plátano', 'Guayaba', 'Pera', 'Manzana')"
      ],
      "metadata": {
        "id": "vrzC14kZxUq9"
      },
      "execution_count": null,
      "outputs": []
    },
    {
      "cell_type": "code",
      "source": [
        "frutasLista = list(frutas)\n",
        "print(frutasLista)"
      ],
      "metadata": {
        "colab": {
          "base_uri": "https://localhost:8080/"
        },
        "id": "LW2dnb7exYPN",
        "outputId": "e6bfe4fc-08f9-4a39-fe52-e2b29ce1c85d"
      },
      "execution_count": null,
      "outputs": [
        {
          "output_type": "stream",
          "name": "stdout",
          "text": [
            "['Naranja', 'Plátano', 'Guayaba', 'Pera', 'Manzana']\n"
          ]
        }
      ]
    },
    {
      "cell_type": "code",
      "source": [
        "frutasLista[0] = 'Mango'"
      ],
      "metadata": {
        "id": "AXtp_AAMzHgx"
      },
      "execution_count": null,
      "outputs": []
    },
    {
      "cell_type": "code",
      "source": [
        "print(frutasLista)"
      ],
      "metadata": {
        "colab": {
          "base_uri": "https://localhost:8080/"
        },
        "id": "YOvOP5zwzNiP",
        "outputId": "36ca01e4-c8b2-4c47-d4d9-4d03f37615e8"
      },
      "execution_count": null,
      "outputs": [
        {
          "output_type": "stream",
          "name": "stdout",
          "text": [
            "['Mango', 'Plátano', 'Guayaba', 'Pera', 'Manzana']\n"
          ]
        }
      ]
    },
    {
      "cell_type": "code",
      "source": [
        "frutas = tuple(frutasLista)\n",
        "print(frutas)"
      ],
      "metadata": {
        "colab": {
          "base_uri": "https://localhost:8080/"
        },
        "id": "i61C6j6DzZU9",
        "outputId": "92d568b2-c2e9-4f8c-b5e4-de827af83681"
      },
      "execution_count": null,
      "outputs": [
        {
          "output_type": "stream",
          "name": "stdout",
          "text": [
            "('Mango', 'Plátano', 'Guayaba', 'Pera', 'Manzana')\n"
          ]
        }
      ]
    },
    {
      "cell_type": "code",
      "source": [
        "print(frutas)"
      ],
      "metadata": {
        "colab": {
          "base_uri": "https://localhost:8080/"
        },
        "id": "KOirZf9Rzx86",
        "outputId": "1d592abb-b46e-453e-cb54-cdfb97cea56f"
      },
      "execution_count": null,
      "outputs": [
        {
          "output_type": "stream",
          "name": "stdout",
          "text": [
            "('Mango', 'Plátano', 'Guayaba', 'Pera', 'Manzana') \n",
            "\n"
          ]
        }
      ]
    },
    {
      "cell_type": "code",
      "source": [
        "#cambiar valor tupla\n",
        "# frutas[0] = 'Pera'\n",
        "frutasLista = list(frutas)\n",
        "frutasLista[0] = 'Pera'\n",
        "frutas = tuple(frutasLista)\n",
        "print('\\n',frutas)"
      ],
      "metadata": {
        "id": "We8xFPg-I1CN",
        "colab": {
          "base_uri": "https://localhost:8080/"
        },
        "outputId": "2e3a22b0-b375-4d2c-bc2d-b710189421fa"
      },
      "execution_count": null,
      "outputs": [
        {
          "output_type": "stream",
          "name": "stdout",
          "text": [
            "\n",
            " ('Pera', 'Plátano', 'Guayaba', 'Pera', 'Manzana')\n"
          ]
        }
      ]
    },
    {
      "cell_type": "code",
      "source": [
        "#eliminar la tupla\n",
        "del frutas"
      ],
      "metadata": {
        "id": "57Ztgkn-I0yJ",
        "colab": {
          "base_uri": "https://localhost:8080/",
          "height": 187
        },
        "outputId": "8bd6e3cb-6319-4636-b038-583125122102"
      },
      "execution_count": null,
      "outputs": [
        {
          "output_type": "error",
          "ename": "NameError",
          "evalue": "ignored",
          "traceback": [
            "\u001b[0;31m---------------------------------------------------------------------------\u001b[0m",
            "\u001b[0;31mNameError\u001b[0m                                 Traceback (most recent call last)",
            "\u001b[0;32m<ipython-input-97-25cecd80f31f>\u001b[0m in \u001b[0;36m<module>\u001b[0;34m()\u001b[0m\n\u001b[1;32m      1\u001b[0m \u001b[0;31m#eliminar la tupla\u001b[0m\u001b[0;34m\u001b[0m\u001b[0;34m\u001b[0m\u001b[0;34m\u001b[0m\u001b[0m\n\u001b[0;32m----> 2\u001b[0;31m \u001b[0;32mdel\u001b[0m \u001b[0mfrutas\u001b[0m\u001b[0;34m\u001b[0m\u001b[0;34m\u001b[0m\u001b[0m\n\u001b[0m",
            "\u001b[0;31mNameError\u001b[0m: name 'frutas' is not defined"
          ]
        }
      ]
    },
    {
      "cell_type": "code",
      "source": [
        "print(frutas)"
      ],
      "metadata": {
        "colab": {
          "base_uri": "https://localhost:8080/",
          "height": 169
        },
        "id": "Cf-EkGGbzulD",
        "outputId": "c8ffd241-3ae0-4f1f-9817-e4fdc14a6706"
      },
      "execution_count": null,
      "outputs": [
        {
          "output_type": "error",
          "ename": "NameError",
          "evalue": "ignored",
          "traceback": [
            "\u001b[0;31m---------------------------------------------------------------------------\u001b[0m",
            "\u001b[0;31mNameError\u001b[0m                                 Traceback (most recent call last)",
            "\u001b[0;32m<ipython-input-96-6c2319e62b61>\u001b[0m in \u001b[0;36m<module>\u001b[0;34m()\u001b[0m\n\u001b[0;32m----> 1\u001b[0;31m \u001b[0mprint\u001b[0m\u001b[0;34m(\u001b[0m\u001b[0mfrutas\u001b[0m\u001b[0;34m)\u001b[0m\u001b[0;34m\u001b[0m\u001b[0;34m\u001b[0m\u001b[0m\n\u001b[0m",
            "\u001b[0;31mNameError\u001b[0m: name 'frutas' is not defined"
          ]
        }
      ]
    },
    {
      "cell_type": "markdown",
      "source": [
        "#**SET**"
      ],
      "metadata": {
        "id": "8TsDmZLDJOtF"
      }
    },
    {
      "cell_type": "code",
      "source": [
        "# set\n",
        "planetas = {'Marte', 'Júpiter', 'Venus'}\n",
        "print(planetas)\n",
        "#largo\n",
        "print(len(planetas))"
      ],
      "metadata": {
        "id": "bPnge_qtJYDl",
        "colab": {
          "base_uri": "https://localhost:8080/"
        },
        "outputId": "dabb99eb-3330-4739-f431-c55a917a1972"
      },
      "execution_count": null,
      "outputs": [
        {
          "output_type": "stream",
          "name": "stdout",
          "text": [
            "{'Marte', 'Venus', 'Júpiter'}\n",
            "3\n"
          ]
        }
      ]
    },
    {
      "cell_type": "code",
      "source": [
        "# revisar si un elemento está presente\n",
        "print('Venus' in planetas)"
      ],
      "metadata": {
        "id": "4Lw_PZZvJX-3",
        "colab": {
          "base_uri": "https://localhost:8080/"
        },
        "outputId": "beec73d3-bea2-44ea-a769-37f3203ea6a8"
      },
      "execution_count": null,
      "outputs": [
        {
          "output_type": "stream",
          "name": "stdout",
          "text": [
            "True\n"
          ]
        }
      ]
    },
    {
      "cell_type": "code",
      "source": [
        "# agregar un elemento\n",
        "planetas.add('Tierra')\n",
        "print( planetas)"
      ],
      "metadata": {
        "id": "_2Qv1eRSJX2p",
        "colab": {
          "base_uri": "https://localhost:8080/"
        },
        "outputId": "d674a662-620f-42cc-f96c-bae2022321e1"
      },
      "execution_count": null,
      "outputs": [
        {
          "output_type": "stream",
          "name": "stdout",
          "text": [
            "{'Marte', 'Venus', 'Tierra', 'Júpiter'}\n"
          ]
        }
      ]
    },
    {
      "cell_type": "code",
      "source": [
        "planetas.add('Neptuno')"
      ],
      "metadata": {
        "id": "L7UFsI9uNtNU"
      },
      "execution_count": null,
      "outputs": []
    },
    {
      "cell_type": "code",
      "source": [
        "print( planetas)"
      ],
      "metadata": {
        "colab": {
          "base_uri": "https://localhost:8080/"
        },
        "id": "5FA2Lz9YNtAx",
        "outputId": "486d2ba3-d112-4022-b9e7-3f0de8251e06"
      },
      "execution_count": null,
      "outputs": [
        {
          "output_type": "stream",
          "name": "stdout",
          "text": [
            "{'Venus', 'Neptuno', 'Júpiter', 'Marte', 'Tierra'}\n"
          ]
        }
      ]
    },
    {
      "cell_type": "code",
      "source": [
        "#no se pueden duplicar elementos\n",
        "planetas.add('Tierra')\n",
        "print(planetas)"
      ],
      "metadata": {
        "id": "2sL6URtJJXtv",
        "colab": {
          "base_uri": "https://localhost:8080/"
        },
        "outputId": "e7a6514b-18be-457f-eb0e-c511abe7043d"
      },
      "execution_count": null,
      "outputs": [
        {
          "output_type": "stream",
          "name": "stdout",
          "text": [
            "{'Venus', 'Neptuno', 'Júpiter', 'Marte', 'Tierra'}\n"
          ]
        }
      ]
    },
    {
      "cell_type": "code",
      "source": [
        "# eliminar elemento posiblemente arrojando un error\n",
        "planetas.remove('Venus')\n",
        "print(planetas)"
      ],
      "metadata": {
        "id": "NhuKLZFRK7tM",
        "colab": {
          "base_uri": "https://localhost:8080/"
        },
        "outputId": "726852b3-145c-4e53-f970-a69e6c634042"
      },
      "execution_count": null,
      "outputs": [
        {
          "output_type": "stream",
          "name": "stdout",
          "text": [
            "{'Neptuno', 'Júpiter', 'Marte'}\n"
          ]
        }
      ]
    },
    {
      "cell_type": "code",
      "source": [
        "# eliminar elemento sin arrojar error\n",
        "planetas.discard('Júpiter')\n"
      ],
      "metadata": {
        "id": "cby51jWaIeZr"
      },
      "execution_count": null,
      "outputs": []
    },
    {
      "cell_type": "code",
      "source": [
        "print(planetas)"
      ],
      "metadata": {
        "id": "QcTSy7zJQCuz"
      },
      "execution_count": null,
      "outputs": []
    },
    {
      "cell_type": "code",
      "source": [
        "# limpiar set\n",
        "planetas.clear()\n",
        "print(planetas)"
      ],
      "metadata": {
        "id": "XwWWg1q-K7aS",
        "colab": {
          "base_uri": "https://localhost:8080/"
        },
        "outputId": "a387c95c-b74e-42da-e67a-2d461bc83a2e"
      },
      "execution_count": null,
      "outputs": [
        {
          "output_type": "stream",
          "name": "stdout",
          "text": [
            "set()\n"
          ]
        }
      ]
    },
    {
      "cell_type": "code",
      "source": [
        "planetas.add('Tierra')\n",
        "print(planetas)"
      ],
      "metadata": {
        "colab": {
          "base_uri": "https://localhost:8080/"
        },
        "id": "YSQTrOHvPUHe",
        "outputId": "b447abf1-e711-4149-836b-7dc20a3ed6b0"
      },
      "execution_count": null,
      "outputs": [
        {
          "output_type": "stream",
          "name": "stdout",
          "text": [
            "{'Tierra'}\n"
          ]
        }
      ]
    },
    {
      "cell_type": "code",
      "source": [
        "planetas.update(['tierra','jupiter', 3])\n",
        "print(planetas)"
      ],
      "metadata": {
        "colab": {
          "base_uri": "https://localhost:8080/"
        },
        "id": "j2MOLzs_RVfd",
        "outputId": "de72dcdc-3c5e-414e-8528-133fdcb70a3b"
      },
      "execution_count": null,
      "outputs": [
        {
          "output_type": "stream",
          "name": "stdout",
          "text": [
            "{'Venus', 3, 4, 5, 6, 'jupiter', 'Marte', 'tierra'}\n"
          ]
        }
      ]
    },
    {
      "cell_type": "code",
      "source": [
        "# eliminar el set\n",
        "del planetas"
      ],
      "metadata": {
        "id": "O-eN8w_RIh4r"
      },
      "execution_count": null,
      "outputs": []
    },
    {
      "cell_type": "code",
      "source": [
        "print(planetas)"
      ],
      "metadata": {
        "colab": {
          "base_uri": "https://localhost:8080/",
          "height": 169
        },
        "id": "3IJAKUv5IjjY",
        "outputId": "0bea32e9-5d82-4e8c-89a8-ce767972860b"
      },
      "execution_count": null,
      "outputs": [
        {
          "output_type": "error",
          "ename": "NameError",
          "evalue": "ignored",
          "traceback": [
            "\u001b[0;31m---------------------------------------------------------------------------\u001b[0m",
            "\u001b[0;31mNameError\u001b[0m                                 Traceback (most recent call last)",
            "\u001b[0;32m<ipython-input-121-101d9d079c24>\u001b[0m in \u001b[0;36m<module>\u001b[0;34m()\u001b[0m\n\u001b[0;32m----> 1\u001b[0;31m \u001b[0mprint\u001b[0m\u001b[0;34m(\u001b[0m\u001b[0mplanetas\u001b[0m\u001b[0;34m)\u001b[0m\u001b[0;34m\u001b[0m\u001b[0;34m\u001b[0m\u001b[0m\n\u001b[0m",
            "\u001b[0;31mNameError\u001b[0m: name 'planetas' is not defined"
          ]
        }
      ]
    },
    {
      "cell_type": "markdown",
      "source": [
        "#**DICCIONARIO**"
      ],
      "metadata": {
        "id": "-DrKFWdHL2Jp"
      }
    },
    {
      "cell_type": "code",
      "source": [
        "# dict (key, value)\n",
        "diccionario = {\n",
        "    'IDE':'Integrated Development Environment',\n",
        "    'OOP':'Object Oriented Programming',\n",
        "    'DBMS':'Database Management System'\n",
        "}\n",
        "print(diccionario)\n",
        "#largo\n",
        "print(len(diccionario))"
      ],
      "metadata": {
        "id": "OholmryyL5by",
        "colab": {
          "base_uri": "https://localhost:8080/"
        },
        "outputId": "9cf7713d-3f46-4af8-88e0-91223468486d"
      },
      "execution_count": null,
      "outputs": [
        {
          "output_type": "stream",
          "name": "stdout",
          "text": [
            "{'IDE': 'Integrated Development Environment', 'OOP': 'Object Oriented Programming', 'DBMS': 'Database Management System'}\n",
            "3\n"
          ]
        }
      ]
    },
    {
      "cell_type": "code",
      "source": [
        "# acceder a un elemento (key)\n",
        "print( diccionario['IDE'])\n",
        "# otra forma de recuperar un elemento\n",
        "print(diccionario.get('OOP'))"
      ],
      "metadata": {
        "id": "WvcVDhwEMLIv",
        "colab": {
          "base_uri": "https://localhost:8080/"
        },
        "outputId": "236eb581-2b38-4fe6-b0b0-4cd5c7d92a0c"
      },
      "execution_count": null,
      "outputs": [
        {
          "output_type": "stream",
          "name": "stdout",
          "text": [
            "Integrated Development Environment\n",
            "Object Oriented Programming\n"
          ]
        }
      ]
    },
    {
      "cell_type": "code",
      "source": [
        "# modificando elementos\n",
        "diccionario['IDE'] = 'esto es una prueba'\n",
        "print(diccionario)"
      ],
      "metadata": {
        "id": "ZIReAiq_MK-5",
        "colab": {
          "base_uri": "https://localhost:8080/"
        },
        "outputId": "9fd05260-de7b-4632-c9f6-0a175853ced5"
      },
      "execution_count": null,
      "outputs": [
        {
          "output_type": "stream",
          "name": "stdout",
          "text": [
            "{'IDE': 'esto es una prueba', 'OOP': 'Object Oriented Programming', 'DBMS': 'Database Management System'}\n"
          ]
        }
      ]
    },
    {
      "cell_type": "code",
      "source": [
        "# recorrer los elementos\n",
        "for t, in diccionario.items():\n",
        "    print(t, v)"
      ],
      "metadata": {
        "id": "AOqg-eUeMK18",
        "colab": {
          "base_uri": "https://localhost:8080/"
        },
        "outputId": "42a09e3a-489c-45c3-f58b-d67625a94b43"
      },
      "execution_count": null,
      "outputs": [
        {
          "output_type": "stream",
          "name": "stdout",
          "text": [
            "IDE esto es una prueba\n",
            "OOP Object Oriented Programming\n",
            "DBMS Database Management System\n"
          ]
        }
      ]
    },
    {
      "cell_type": "code",
      "source": [
        "for j in diccionario.keys():\n",
        "    print(j)"
      ],
      "metadata": {
        "id": "tm3_RpOVMQbW",
        "colab": {
          "base_uri": "https://localhost:8080/"
        },
        "outputId": "5d97e997-99f7-4b78-d0a4-6004f01e4b38"
      },
      "execution_count": null,
      "outputs": [
        {
          "output_type": "stream",
          "name": "stdout",
          "text": [
            "IDE\n",
            "OOP\n",
            "DBMS\n"
          ]
        }
      ]
    },
    {
      "cell_type": "code",
      "source": [
        "for valor in diccionario.values():\n",
        "    print(valor)"
      ],
      "metadata": {
        "id": "tMmVGceaMKws",
        "colab": {
          "base_uri": "https://localhost:8080/"
        },
        "outputId": "9884371f-7187-4afa-9020-4d7fab20fc0d"
      },
      "execution_count": null,
      "outputs": [
        {
          "output_type": "stream",
          "name": "stdout",
          "text": [
            "esto es una prueba\n",
            "Object Oriented Programming\n",
            "Database Management System\n"
          ]
        }
      ]
    },
    {
      "cell_type": "code",
      "source": [
        "# comprobar existencia de algún elemento\n",
        "print('IDE' in diccionario)"
      ],
      "metadata": {
        "id": "sMynVL4gMKsN",
        "colab": {
          "base_uri": "https://localhost:8080/"
        },
        "outputId": "5167fda5-60c9-4d3d-c494-30156ec1da7b"
      },
      "execution_count": null,
      "outputs": [
        {
          "output_type": "stream",
          "name": "stdout",
          "text": [
            "True\n"
          ]
        }
      ]
    },
    {
      "cell_type": "code",
      "source": [
        "# agregar un elemento\n",
        "diccionario['python'] = 'hola mundo'\n",
        "print(diccionario)"
      ],
      "metadata": {
        "id": "NHOuM2MyMKnT",
        "colab": {
          "base_uri": "https://localhost:8080/"
        },
        "outputId": "f70bc536-1b43-45ab-bef1-470385a46f06"
      },
      "execution_count": null,
      "outputs": [
        {
          "output_type": "stream",
          "name": "stdout",
          "text": [
            "{'IDE': 'esto es una prueba', 'OOP': 'Programacion Orientada a Objetos', 'DBMS': 'Database Management System', 'PK': 'Primary Key', 'python': 'hola mundo'}\n"
          ]
        }
      ]
    },
    {
      "cell_type": "code",
      "source": [
        "# remover un elemento\n",
        "diccionario.pop('python')\n",
        "print(diccionario)"
      ],
      "metadata": {
        "id": "CcaDLZdsNEu5",
        "colab": {
          "base_uri": "https://localhost:8080/"
        },
        "outputId": "6a99e997-7f99-4978-dcd1-41873eb45125"
      },
      "execution_count": null,
      "outputs": [
        {
          "output_type": "stream",
          "name": "stdout",
          "text": [
            "{'IDE': 'esto es una prueba', 'OOP': 'Programacion Orientada a Objetos', 'PK': 'Primary Key'}\n"
          ]
        }
      ]
    },
    {
      "cell_type": "code",
      "source": [
        "# limpiar\n",
        "diccionario.clear()\n",
        "print(diccionario)"
      ],
      "metadata": {
        "id": "jim-y8QENEmd",
        "colab": {
          "base_uri": "https://localhost:8080/"
        },
        "outputId": "f850e681-81ad-497f-f1f3-9728a2e25532"
      },
      "execution_count": null,
      "outputs": [
        {
          "output_type": "stream",
          "name": "stdout",
          "text": [
            "{}\n"
          ]
        }
      ]
    },
    {
      "cell_type": "code",
      "source": [
        "# eliminar el diccionario\n",
        "del diccionario\n",
        "print(diccionario)\n"
      ],
      "metadata": {
        "id": "CILkSegJMKej",
        "colab": {
          "base_uri": "https://localhost:8080/",
          "height": 205
        },
        "outputId": "8727cde9-9109-409c-c1cc-f7d63f5256bf"
      },
      "execution_count": null,
      "outputs": [
        {
          "output_type": "error",
          "ename": "NameError",
          "evalue": "ignored",
          "traceback": [
            "\u001b[0;31m---------------------------------------------------------------------------\u001b[0m",
            "\u001b[0;31mNameError\u001b[0m                                 Traceback (most recent call last)",
            "\u001b[0;32m<ipython-input-148-12ac424999a4>\u001b[0m in \u001b[0;36m<module>\u001b[0;34m()\u001b[0m\n\u001b[1;32m      1\u001b[0m \u001b[0;31m# eliminar el diccionario\u001b[0m\u001b[0;34m\u001b[0m\u001b[0;34m\u001b[0m\u001b[0;34m\u001b[0m\u001b[0m\n\u001b[1;32m      2\u001b[0m \u001b[0;32mdel\u001b[0m \u001b[0mdiccionario\u001b[0m\u001b[0;34m\u001b[0m\u001b[0;34m\u001b[0m\u001b[0m\n\u001b[0;32m----> 3\u001b[0;31m \u001b[0mprint\u001b[0m\u001b[0;34m(\u001b[0m\u001b[0mdiccionario\u001b[0m\u001b[0;34m)\u001b[0m\u001b[0;34m\u001b[0m\u001b[0;34m\u001b[0m\u001b[0m\n\u001b[0m",
            "\u001b[0;31mNameError\u001b[0m: name 'diccionario' is not defined"
          ]
        }
      ]
    }
  ]
}